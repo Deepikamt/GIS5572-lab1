{
 "cells": [
  {
   "cell_type": "markdown",
   "id": "90154f46-6432-4d19-9380-ee675337b5ba",
   "metadata": {},
   "source": [
    "# GIS5572-LAB1.2(fiona)"
   ]
  },
  {
   "cell_type": "markdown",
   "id": "818b9330-5928-4f85-ab3a-7def6613ed36",
   "metadata": {},
   "source": [
    "### Create feature"
   ]
  },
  {
   "cell_type": "code",
   "execution_count": 27,
   "id": "6a1e1681-cf4f-412a-adea-dee5502b6509",
   "metadata": {},
   "outputs": [],
   "source": [
    "import fiona\n",
    "from shapely.geometry import LineString, Polygon\n",
    "from shapely.geometry import Point\n",
    "import matplotlib.pyplot as plt\n",
    "import contextily as ctx\n",
    "import geopandas as gpd"
   ]
  },
  {
   "cell_type": "code",
   "execution_count": 19,
   "id": "25769c66-43b5-4621-8088-f53d69f9f5c9",
   "metadata": {},
   "outputs": [
    {
     "name": "stdout",
     "output_type": "stream",
     "text": [
      "Collecting contextily\n",
      "  Downloading contextily-1.5.0-py3-none-any.whl (17 kB)\n",
      "Requirement already satisfied: geopy in /opt/conda/lib/python3.9/site-packages (from contextily) (2.2.0)\n",
      "Requirement already satisfied: pillow in /opt/conda/lib/python3.9/site-packages (from contextily) (8.4.0)\n",
      "Requirement already satisfied: matplotlib in /opt/conda/lib/python3.9/site-packages (from contextily) (3.5.1)\n",
      "Requirement already satisfied: rasterio in /opt/conda/lib/python3.9/site-packages (from contextily) (1.2.10)\n",
      "Requirement already satisfied: requests in /opt/conda/lib/python3.9/site-packages (from contextily) (2.26.0)\n",
      "Collecting mercantile\n",
      "  Downloading mercantile-1.2.1-py3-none-any.whl (14 kB)\n",
      "Requirement already satisfied: xyzservices in /opt/conda/lib/python3.9/site-packages (from contextily) (2022.6.0)\n",
      "Requirement already satisfied: joblib in /opt/conda/lib/python3.9/site-packages (from contextily) (1.1.0)\n",
      "Requirement already satisfied: geographiclib<2,>=1.49 in /opt/conda/lib/python3.9/site-packages (from geopy->contextily) (1.52)\n",
      "Requirement already satisfied: fonttools>=4.22.0 in /opt/conda/lib/python3.9/site-packages (from matplotlib->contextily) (4.28.5)\n",
      "Requirement already satisfied: cycler>=0.10 in /opt/conda/lib/python3.9/site-packages (from matplotlib->contextily) (0.11.0)\n",
      "Requirement already satisfied: pyparsing>=2.2.1 in /opt/conda/lib/python3.9/site-packages (from matplotlib->contextily) (3.0.6)\n",
      "Requirement already satisfied: numpy>=1.17 in /opt/conda/lib/python3.9/site-packages (from matplotlib->contextily) (1.20.3)\n",
      "Requirement already satisfied: python-dateutil>=2.7 in /opt/conda/lib/python3.9/site-packages (from matplotlib->contextily) (2.8.2)\n",
      "Requirement already satisfied: packaging>=20.0 in /opt/conda/lib/python3.9/site-packages (from matplotlib->contextily) (21.3)\n",
      "Requirement already satisfied: kiwisolver>=1.0.1 in /opt/conda/lib/python3.9/site-packages (from matplotlib->contextily) (1.3.2)\n",
      "Requirement already satisfied: click>=3.0 in /opt/conda/lib/python3.9/site-packages (from mercantile->contextily) (8.0.3)\n",
      "Requirement already satisfied: certifi in /opt/conda/lib/python3.9/site-packages (from rasterio->contextily) (2022.6.15)\n",
      "Requirement already satisfied: cligj>=0.5 in /opt/conda/lib/python3.9/site-packages (from rasterio->contextily) (0.7.2)\n",
      "Requirement already satisfied: setuptools in /opt/conda/lib/python3.9/site-packages (from rasterio->contextily) (59.8.0)\n",
      "Requirement already satisfied: attrs in /opt/conda/lib/python3.9/site-packages (from rasterio->contextily) (21.2.0)\n",
      "Requirement already satisfied: click-plugins in /opt/conda/lib/python3.9/site-packages (from rasterio->contextily) (1.1.1)\n",
      "Requirement already satisfied: affine in /opt/conda/lib/python3.9/site-packages (from rasterio->contextily) (2.3.1)\n",
      "Requirement already satisfied: snuggs>=1.4.1 in /opt/conda/lib/python3.9/site-packages (from rasterio->contextily) (1.4.7)\n",
      "Requirement already satisfied: idna<4,>=2.5 in /opt/conda/lib/python3.9/site-packages (from requests->contextily) (3.1)\n",
      "Requirement already satisfied: charset-normalizer~=2.0.0 in /opt/conda/lib/python3.9/site-packages (from requests->contextily) (2.0.9)\n",
      "Requirement already satisfied: urllib3<1.27,>=1.21.1 in /opt/conda/lib/python3.9/site-packages (from requests->contextily) (1.26.7)\n",
      "Requirement already satisfied: six>=1.5 in /opt/conda/lib/python3.9/site-packages (from python-dateutil>=2.7->matplotlib->contextily) (1.16.0)\n",
      "Installing collected packages: mercantile, contextily\n",
      "Successfully installed contextily-1.5.0 mercantile-1.2.1\n",
      "Note: you may need to restart the kernel to use updated packages.\n"
     ]
    }
   ],
   "source": [
    "pip install contextily"
   ]
  },
  {
   "cell_type": "code",
   "execution_count": 2,
   "id": "f1a949e6-6e1f-42aa-9e98-9b59e596032b",
   "metadata": {},
   "outputs": [],
   "source": [
    "# Define the coordinates\n",
    "point_coords = [(-93.2432978030554, 44.9720771737284),\n",
    "                (-93.2354298571532, 44.9734399517614)]\n",
    "\n",
    "line_coords = [(-93.2432978030554, 44.9720771737284),\n",
    "               (-93.2354298571532, 44.9734399517614)]\n",
    "\n",
    "polygon_coords = [(-93.2432978030554, 44.9720771737284),\n",
    "                  (-93.25324747652463, 45.06680869398418),\n",
    "                  (-93.18556380476504, 44.985945669616754),\n",
    "                  (-93.2354298571532, 44.9734399517614)]"
   ]
  },
  {
   "cell_type": "code",
   "execution_count": 25,
   "id": "67d4628c-69d6-402e-a0a5-d053a1005c16",
   "metadata": {},
   "outputs": [],
   "source": [
    "import os\n",
    "import fiona\n",
    "\n",
    "# Define the directory path\n",
    "output_directory = \"Feature Class\"\n",
    "\n",
    "# Create the directory if it doesn't exist\n",
    "if not os.path.exists(output_directory):\n",
    "    os.makedirs(output_directory)\n",
    "\n",
    "# Define the complete paths to the output shapefiles\n",
    "# Point\n",
    "output_point_shapefile = os.path.join(output_directory, \"FeatureClass_Point.shp\")\n",
    "\n",
    "# Polyline\n",
    "output_line_shapefile = os.path.join(output_directory, \"FeatureClass_Line.shp\")\n",
    "\n",
    "# Polygon\n",
    "output_polygon_shapefile = os.path.join(output_directory, \"FeatureClass_Polygon.shp\")\n",
    "\n",
    "# Define the geometry types\n",
    "geometry_type_point = 'Point'\n",
    "geometry_type_line = 'LineString'\n",
    "geometry_type_polygon = 'Polygon'\n",
    "\n",
    "# Create feature classes\n",
    "with fiona.open(output_point_shapefile, 'w', 'ESRI Shapefile', schema={'geometry': geometry_type_point}) as output_point:\n",
    "    pass  \n",
    "\n",
    "with fiona.open(output_line_shapefile, 'w', 'ESRI Shapefile', schema={'geometry': geometry_type_line}) as output_line:\n",
    "    pass  \n",
    "\n",
    "with fiona.open(output_polygon_shapefile, 'w', 'ESRI Shapefile', schema={'geometry': geometry_type_polygon}) as output_polygon:\n",
    "    pass  \n"
   ]
  },
  {
   "cell_type": "markdown",
   "id": "ad3be613-42b0-4660-9bf4-97afd0ecde1d",
   "metadata": {},
   "source": [
    "### Adding points to feature class point"
   ]
  },
  {
   "cell_type": "code",
   "execution_count": 29,
   "id": "2b657964-7c77-40a3-9d75-49759d0bddf1",
   "metadata": {},
   "outputs": [],
   "source": [
    "import os\n",
    "import fiona\n",
    "from shapely.geometry import mapping, Point\n",
    "\n",
    "# Define the directory path\n",
    "output_directory = \"Feature Class\"\n",
    "\n",
    "# Create the directory if it doesn't exist\n",
    "if not os.path.exists(output_directory):\n",
    "    os.makedirs(output_directory)\n",
    "\n",
    "# Define the complete paths to the output shapefiles\n",
    "# Point\n",
    "output_point_shapefile = os.path.join(output_directory, \"FeatureClass_Point.shp\")\n",
    "\n",
    "# Define the geometry types\n",
    "geometry_type_point = 'Point'\n",
    "\n",
    "# Create two sample points\n",
    "point1 = Point(1, 1)\n",
    "point2 = Point(2, 2)\n",
    "\n",
    "# Open the existing shapefile\n",
    "with fiona.open(output_point_shapefile, 'a') as output:\n",
    "    output.write({'geometry': mapping(point1), 'properties': {}})\n",
    "    output.write({'geometry': mapping(point2), 'properties': {}})\n"
   ]
  },
  {
   "cell_type": "markdown",
   "id": "fd4bbc4c-2d1e-4672-a646-642cdc0c6d5e",
   "metadata": {},
   "source": [
    "### add line to feature class"
   ]
  },
  {
   "cell_type": "code",
   "execution_count": 30,
   "id": "87cb9b18-2221-4d3e-911a-9e377925c3f4",
   "metadata": {},
   "outputs": [],
   "source": [
    "#Path to Shapefile\n",
    "output_line_shapefile = r\"Feature Class/FeatureClass_Line.shp\"\n",
    "\n",
    "# Line\n",
    "line = LineString([(-93.22456694058349, 44.97656707355932),\n",
    "                   (-93.25750208433475, 44.97369530667097)])\n",
    "\n",
    "# Open the existing shapefile with Fiona\n",
    "with fiona.open(output_line_shapefile, 'a') as output:\n",
    "    output.write({'geometry': mapping(line), 'properties': {}})"
   ]
  },
  {
   "cell_type": "markdown",
   "id": "29a3f963-484d-4a7b-b859-36a52d0d3d7c",
   "metadata": {},
   "source": [
    "### app polygon to feature class"
   ]
  },
  {
   "cell_type": "code",
   "execution_count": 31,
   "id": "f2cb6a08-c4f6-4e80-85af-b18a5535cbd6",
   "metadata": {},
   "outputs": [],
   "source": [
    "#Path to Shapefile\n",
    "output_polygon_shapefile = r\"Feature Class/FeatureClass_Polygon.shp\"\n",
    "\n",
    "# Polygon\n",
    "polygon = Polygon([( -93.22456694058349, 44.97656707355932),\n",
    "                   (-93.25750208433475, 44.97369530667097),\n",
    "                   (-93.21775917100368, 44.884844671870496),\n",
    "                   (-93.09021376922068, 44.95341865709891)])\n",
    "\n",
    "# Open the existing shapefile with Fiona\n",
    "with fiona.open(output_polygon_shapefile, 'a') as output:\n",
    "    output.write({'geometry': mapping(polygon), 'properties': {}})"
   ]
  },
  {
   "cell_type": "markdown",
   "id": "a74e844e-f424-41fa-9614-e4675d4b2c3d",
   "metadata": {},
   "source": [
    "### view row"
   ]
  },
  {
   "cell_type": "code",
   "execution_count": 32,
   "id": "880bd9e8-9933-42bc-b13c-682e02448fe4",
   "metadata": {},
   "outputs": [
    {
     "name": "stdout",
     "output_type": "stream",
     "text": [
      "\n",
      "Attribute Table for Feature Class/FeatureClass_Point.shp:\n",
      "OrderedDict([('FID', 0)])\n",
      "OrderedDict([('FID', 1)])\n",
      "\n",
      "Attribute Table for Feature Class/FeatureClass_Line.shp:\n",
      "OrderedDict([('FID', 0)])\n",
      "\n",
      "Attribute Table for Feature Class/FeatureClass_Polygon.shp:\n",
      "OrderedDict([('FID', 0)])\n"
     ]
    }
   ],
   "source": [
    "# Path to all the shapefiles\n",
    "output_point_shapefile = r\"Feature Class/FeatureClass_Point.shp\"\n",
    "output_line_shapefile = r\"Feature Class/FeatureClass_Line.shp\"\n",
    "output_polygon_shapefile = r\"Feature Class/FeatureClass_Polygon.shp\"\n",
    "\n",
    "# List of shapefiles\n",
    "shapefiles = [output_point_shapefile, output_line_shapefile, output_polygon_shapefile]\n",
    "\n",
    "# Iterate through each shapefile\n",
    "for output_shapefile in shapefiles:\n",
    "    print(f\"\\nAttribute Table for {output_shapefile}:\")\n",
    "    with fiona.open(output_shapefile, 'r') as source:\n",
    "        # Iterate through each feature (row) in the shapefile\n",
    "        for feature in source:\n",
    "            # Access the properties (attributes) of the feature\n",
    "            attributes = feature['properties']\n",
    "            print(attributes)"
   ]
  },
  {
   "cell_type": "markdown",
   "id": "77709890-1fa9-4506-8309-bddf9c67a4ed",
   "metadata": {},
   "source": [
    "### View geometry"
   ]
  },
  {
   "cell_type": "code",
   "execution_count": 34,
   "id": "d7ef3520-524d-4596-a7ae-b09e91e095fe",
   "metadata": {},
   "outputs": [
    {
     "name": "stdout",
     "output_type": "stream",
     "text": [
      "\n",
      "Geometry Objects for Feature Class/FeatureClass_Point.shp:\n",
      "POINT (1 1)\n",
      "POINT (2 2)\n",
      "\n",
      "Geometry Objects for Feature Class/FeatureClass_Line.shp:\n",
      "LINESTRING (-93.22456694058349 44.97656707355932, -93.25750208433475 44.97369530667097)\n",
      "\n",
      "Geometry Objects for Feature Class/FeatureClass_Polygon.shp:\n",
      "POLYGON ((-93.22456694058349 44.97656707355932, -93.09021376922068 44.95341865709891, -93.21775917100368 44.884844671870496, -93.25750208433475 44.97369530667097, -93.22456694058349 44.97656707355932))\n"
     ]
    }
   ],
   "source": [
    "import os\n",
    "import fiona\n",
    "from shapely.geometry import shape\n",
    "\n",
    "# Path to all the shapefiles\n",
    "output_point_shapefile = r\"Feature Class/FeatureClass_Point.shp\"\n",
    "output_line_shapefile = r\"Feature Class/FeatureClass_Line.shp\"\n",
    "output_polygon_shapefile = r\"Feature Class/FeatureClass_Polygon.shp\"\n",
    "\n",
    "# List of shapefiles\n",
    "shapefiles = [output_point_shapefile, output_line_shapefile, output_polygon_shapefile]\n",
    "\n",
    "# Iterate through each shapefile\n",
    "for output_shapefile in shapefiles:\n",
    "    print(f\"\\nGeometry Objects for {output_shapefile}:\")\n",
    "    with fiona.open(output_shapefile, 'r') as source:\n",
    "        # Iterate through each feature (row) in the shapefile\n",
    "        for feature in source:\n",
    "            # Access the geometry of the feature\n",
    "            geometry = shape(feature['geometry'])\n",
    "            print(geometry)\n"
   ]
  },
  {
   "cell_type": "markdown",
   "id": "647ed732-5dfe-4598-b50e-68ca85a0504b",
   "metadata": {},
   "source": [
    "### summarize the content"
   ]
  },
  {
   "cell_type": "code",
   "execution_count": 35,
   "id": "5cd84bd8-ea2c-4c40-ba52-6eb1e2a33eaf",
   "metadata": {},
   "outputs": [
    {
     "name": "stdout",
     "output_type": "stream",
     "text": [
      "\n",
      "Summary of Geometry Types:\n",
      "Point Count: 2\n",
      "Linestring Count: 1\n",
      "Polygon Count: 1\n"
     ]
    }
   ],
   "source": [
    "from collections import defaultdict\n",
    "\n",
    "# Path to all the shapefiles\n",
    "output_point_shapefile = r\"Feature Class/FeatureClass_Point.shp\"\n",
    "output_line_shapefile = r\"Feature Class/FeatureClass_Line.shp\"\n",
    "output_polygon_shapefile = r\"Feature Class/FeatureClass_Polygon.shp\"\n",
    "\n",
    "# List of shapefiles\n",
    "shapefiles = [output_point_shapefile, output_line_shapefile, output_polygon_shapefile]\n",
    "\n",
    "# Dictionary to store geometry type counts\n",
    "geometry_counts = defaultdict(int)\n",
    "\n",
    "# Iterate through each shapefile\n",
    "for output_shapefile in shapefiles:\n",
    "    with fiona.open(output_shapefile, 'r') as source:\n",
    "        # Iterate through each feature (row) in the shapefile\n",
    "        for feature in source:\n",
    "            # Access the geometry type of the feature\n",
    "            geometry_type = shape(feature['geometry']).type\n",
    "            # Increment the count for the geometry type\n",
    "            geometry_counts[geometry_type] += 1\n",
    "\n",
    "# Print the summary information\n",
    "print(\"\\nSummary of Geometry Types:\")\n",
    "for geometry_type, count in geometry_counts.items():\n",
    "    print(f\"{geometry_type.capitalize()} Count: {count}\")"
   ]
  },
  {
   "cell_type": "markdown",
   "id": "daa0e79d-c81e-40e8-8e5e-f5092c246602",
   "metadata": {},
   "source": [
    "### Add points into feature classes"
   ]
  },
  {
   "cell_type": "code",
   "execution_count": 11,
   "id": "a4ee2333-ea18-403d-843c-5cd1e28f5c79",
   "metadata": {},
   "outputs": [],
   "source": [
    "# Convert coordinates to Shapely geometries\n",
    "point = Point(point_coords)\n",
    "line = LineString(line_coords)\n",
    "polygon = Polygon(polygon_coords)\n",
    "\n",
    "# Define the coordinates\n",
    "point_coords = [(-93.2432978030554, 44.9720771737284),\n",
    "                (-93.2354298571532, 44.9734399517614)]\n",
    "\n",
    "# Define the coordinates for the line\n",
    "line_coords = [(-93.2432978030554, 44.9720771737284),\n",
    "               (-93.2354298571532, 44.9734399517614)]\n",
    "\n",
    "# Define the coordinates for the polygon\n",
    "polygon_coords = [(-93.2432978030554, 44.9720771737284),\n",
    "                  (-93.25324747652463, 45.06680869398418),\n",
    "                  (-93.18556380476504, 44.985945669616754),\n",
    "                  (-93.2354298571532, 44.9734399517614)]\n",
    "\n",
    "\n",
    "# Convert coordinates to Shapely geometry\n",
    "point = Point(point_coords[0])\n",
    "line = LineString(line_coords)\n",
    "polygon = Polygon(polygon_coords)"
   ]
  },
  {
   "cell_type": "code",
   "execution_count": 11,
   "id": "697cd946-30ba-4ac5-8e56-150e458a1763",
   "metadata": {},
   "outputs": [],
   "source": [
    "# Define schema for the shapefile\n",
    "schema = {'geometry': 'Point', 'properties': {'id': 'int'}}\n",
    "\n",
    "line_schema = {'geometry': 'LineString', 'properties': {'id': 'int'}}\n",
    "\n",
    "polygon_schema = {'geometry': 'Polygon', 'properties': {'id': 'int'}}\n",
    "\n",
    "\n",
    "# Write the feature to a shapefile using Fiona\n",
    "with fiona.open('point_shapefile.shp', 'w', 'ESRI Shapefile', schema) as file:\n",
    "    file.write({'geometry': {'type': 'Point', 'coordinates': point_coords[0]}, 'properties': {'id': 1}})\n",
    "\n",
    "# Write the line feature to a shapefile using Fiona\n",
    "with fiona.open('line_shapefile.shp', 'w', 'ESRI Shapefile', line_schema) as file:\n",
    "    file.write({'geometry': {'type': 'LineString', 'coordinates': line_coords}, 'properties': {'id': 1}})\n",
    "\n",
    "# Write the polygon feature to a shapefile using Fiona\n",
    "with fiona.open('polygon_shapefile.shp', 'w', 'ESRI Shapefile', polygon_schema) as file:\n",
    "    file.write({'geometry': {'type': 'Polygon', 'coordinates': [polygon_coords]}, 'properties': {'id': 1}})"
   ]
  },
  {
   "cell_type": "code",
   "execution_count": 12,
   "id": "0417fe0c-c2c4-4d7b-ae14-8454428c9b61",
   "metadata": {},
   "outputs": [
    {
     "data": {
      "image/png": "[encoded data removed]",
      "text/plain": [
       "<Figure size 432x288 with 1 Axes>"
      ]
     },
     "metadata": {
      "needs_background": "light"
     },
     "output_type": "display_data"
    },
    {
     "data": {
      "image/png": "[encoded data removed]",
      "text/plain": [
       "<Figure size 432x288 with 1 Axes>"
      ]
     },
     "metadata": {
      "needs_background": "light"
     },
     "output_type": "display_data"
    },
    {
     "data": {
      "image/png": "[encoded data removed]",
      "text/plain": [
       "<Figure size 432x288 with 1 Axes>"
      ]
     },
     "metadata": {
      "needs_background": "light"
     },
     "output_type": "display_data"
    }
   ],
   "source": [
    "# Read the shapefile and visualize the geometries using Matplotlib\n",
    "def plot_shapefile(shapefile):\n",
    "    with fiona.open(shapefile) as file:\n",
    "        for feature in file:\n",
    "            geometry = feature['geometry']\n",
    "            if geometry['type'] == 'Point':\n",
    "                plt.plot(*geometry['coordinates'], 'ro')\n",
    "            elif geometry['type'] == 'LineString':\n",
    "                coords = geometry['coordinates']\n",
    "                plt.plot([point[0] for point in coords], [point[1] for point in coords], 'b-')\n",
    "            elif geometry['type'] == 'Polygon':\n",
    "                coords = geometry['coordinates'][0]  # Only the exterior ring\n",
    "                plt.plot([point[0] for point in coords] + [coords[0][0]], [point[1] for point in coords] + [coords[0][1]], 'g-')\n",
    "    plt.xlabel('Longitude')\n",
    "    plt.ylabel('Latitude')\n",
    "    plt.title('Geometry Visualization')\n",
    "    plt.show()\n",
    "\n",
    "plot_shapefile('point_shapefile.shp')\n",
    "plot_shapefile('line_shapefile.shp')\n",
    "plot_shapefile('polygon_shapefile.shp')"
   ]
  },
  {
   "cell_type": "code",
   "execution_count": 16,
   "id": "bd5baa4b-a2e7-4844-a2d5-5bc048481f7d",
   "metadata": {},
   "outputs": [
    {
     "name": "stdout",
     "output_type": "stream",
     "text": [
      "Requirement already satisfied: gdal in /opt/conda/lib/python3.9/site-packages (3.4.0)\n"
     ]
    }
   ],
   "source": [
    "!pip install gdal"
   ]
  },
  {
   "cell_type": "code",
   "execution_count": 17,
   "id": "7bb4d237-f282-469c-9ae1-c98b63aa2af8",
   "metadata": {},
   "outputs": [
    {
     "ename": "ModuleNotFoundError",
     "evalue": "No module named 'ogr'",
     "output_type": "error",
     "traceback": [
      "\u001b[0;31m---------------------------------------------------------------------------\u001b[0m",
      "\u001b[0;31mModuleNotFoundError\u001b[0m                       Traceback (most recent call last)",
      "\u001b[0;32m/tmp/ipykernel_168/3688381536.py\u001b[0m in \u001b[0;36m<module>\u001b[0;34m\u001b[0m\n\u001b[0;32m----> 1\u001b[0;31m \u001b[0;32mimport\u001b[0m \u001b[0mogr\u001b[0m\u001b[0;34m\u001b[0m\u001b[0;34m\u001b[0m\u001b[0m\n\u001b[0m\u001b[1;32m      2\u001b[0m \u001b[0;34m\u001b[0m\u001b[0m\n\u001b[1;32m      3\u001b[0m \u001b[0;31m# Define the paths\u001b[0m\u001b[0;34m\u001b[0m\u001b[0;34m\u001b[0m\u001b[0m\n\u001b[1;32m      4\u001b[0m \u001b[0mshapefiles\u001b[0m \u001b[0;34m=\u001b[0m \u001b[0;34m[\u001b[0m\u001b[0;34m\"point_shapefile.shp\"\u001b[0m\u001b[0;34m,\u001b[0m \u001b[0;34m\"line_shapefile.shp\"\u001b[0m\u001b[0;34m,\u001b[0m \u001b[0;34m\"polygon_shapefile.shp\"\u001b[0m\u001b[0;34m]\u001b[0m\u001b[0;34m\u001b[0m\u001b[0;34m\u001b[0m\u001b[0m\n\u001b[1;32m      5\u001b[0m \u001b[0moutput_gdb\u001b[0m \u001b[0;34m=\u001b[0m \u001b[0;34mr\"C:\\Users\\Deepika\\OneDrive\\Documents\\ArcGIS\\Projects\\ArcGIS_II-Lab1.2(arcpy)\\ArcGIS_II-Lab1.gdb\"\u001b[0m\u001b[0;34m\u001b[0m\u001b[0;34m\u001b[0m\u001b[0m\n",
      "\u001b[0;31mModuleNotFoundError\u001b[0m: No module named 'ogr'"
     ]
    }
   ],
   "source": [
    "import ogr\n",
    "\n",
    "# Define the paths\n",
    "shapefiles = [\"point_shapefile.shp\", \"line_shapefile.shp\", \"polygon_shapefile.shp\"]\n",
    "output_gdb = r\"C:\\Users\\Deepika\\OneDrive\\Documents\\ArcGIS\\Projects\\ArcGIS_II-Lab1.2(arcpy)\\ArcGIS_II-Lab1.gdb\"\n",
    "\n",
    "# Open the output geodatabase\n",
    "driver = ogr.GetDriverByName(\"OpenFileGDB\")\n",
    "output_ds = driver.CreateDataSource(output_gdb)\n",
    "\n",
    "# Loop through shapefiles and copy features to the geodatabase\n",
    "for shapefile in shapefiles:\n",
    "    # Open the input shapefile\n",
    "    input_ds = ogr.Open(shapefile)\n",
    "    layer = input_ds.GetLayer()\n",
    "\n",
    "    # Create corresponding feature class in the geodatabase\n",
    "    output_layer = output_ds.CreateLayer(\n",
    "        layer.GetName(), layer.GetSpatialRef(), layer.GetGeomType())\n",
    "\n",
    "    # Copy features from input shapefile to the geodatabase\n",
    "    for feature in layer:\n",
    "        output_layer.CreateFeature(feature)\n",
    "\n",
    "    # Clean up\n",
    "    output_layer = None\n",
    "    input_ds = None\n",
    "\n",
    "print(\"Shapefiles exported to geodatabase successfully.\")\n"
   ]
  },
  {
   "cell_type": "code",
   "execution_count": null,
   "id": "d5139561-fe93-4c16-a28b-e2e4f11bd8d0",
   "metadata": {},
   "outputs": [],
   "source": []
  }
 ],
 "metadata": {
  "kernelspec": {
   "display_name": "Python 3 (ipykernel)",
   "language": "python",
   "name": "python3"
  },
  "language_info": {
   "codemirror_mode": {
    "name": "ipython",
    "version": 3
   },
   "file_extension": ".py",
   "mimetype": "text/x-python",
   "name": "python",
   "nbconvert_exporter": "python",
   "pygments_lexer": "ipython3",
   "version": "3.9.7"
  }
 },
 "nbformat": 4,
 "nbformat_minor": 5
}
